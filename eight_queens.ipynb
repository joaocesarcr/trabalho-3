{
 "cells": [
  {
   "cell_type": "code",
   "execution_count": 47,
   "id": "968bd830",
   "metadata": {},
   "outputs": [],
   "source": [
    "%matplotlib inline\n",
    "from IPython.display import HTML\n",
    "import numpy as np\n",
    "import matplotlib.pyplot as plt\n",
    "import matplotlib.animation as animation\n",
    "import random\n",
    "\n",
    "import eight_queens"
   ]
  },
  {
   "cell_type": "code",
   "execution_count": 95,
   "id": "2258aa05",
   "metadata": {},
   "outputs": [],
   "source": [
    "\n",
    "def run_ga(g, n, k, m, e):\n",
    "    \"\"\"\n",
    "    Executa o algoritmo genético e retorna o indivíduo com o menor número de ataques entre rainhas\n",
    "    :param g:int - numero de gerações\n",
    "    :param n:int - numero de individuos\n",
    "    :param k:int - numero de participantes do torneio\n",
    "    :param m:float - probabilidade de mutação (entre 0 e 1, inclusive)\n",
    "    :param e:int - número de indivíduos no elitismo\n",
    "    :return:list - melhor individuo encontrado\n",
    "    \"\"\"\n",
    "    def select_parent(population):\n",
    "      \"\"\"\n",
    "        Seleciona dois individuos de uma populacao\n",
    "        :param population: lista com os individuos\n",
    "        :return: 2 individuos (listas de 8 elementos)\n",
    "      \"\"\"\n",
    "      p1 = random.choice(population)\n",
    "      p2 = random.choice(population)\n",
    "      return p1,p2\n",
    "    \n",
    "    def best_worst_avg(population):\n",
    "      \"\"\"\n",
    "        Recebe uma lista de individuos e retorna seu melhor valor,pior valor e a media dos valores\n",
    "        :param population: lista com os individuos\n",
    "        :return: triplet com melhor,pior, e media dos valores da populacao\n",
    "      \"\"\"\n",
    "      smallest, biggest, sums = float(\"inf\"), -float(\"inf\"), 0\n",
    "      for individual in population:\n",
    "        value = eight_queens.evaluate(individual)\n",
    "        smallest = value if value < smallest else smallest\n",
    "        biggest =  value if value > biggest else biggest\n",
    "        sums += value\n",
    "      return smallest,biggest,sums/len(population)\n",
    "\n",
    "    \n",
    "    numbers = range(1,9)\n",
    "    participants = [random.choices(numbers,k=8) for _ in range(n)]\n",
    "    graph_data= []\n",
    "    # Tradução dos slides\n",
    "    # https://docs.google.com/presentation/d/10iKeCsGLVC6qFJhJMD-qBNlNSKr5CyYjFzsrsnKLcYU/edit#slide=id.g1afaeddd4a2_0_136\n",
    "    for _ in range(g):\n",
    "      graph_data.append(best_worst_avg(participants))\n",
    "    \n",
    "      diversity = sum(1 for i in range(len(participants)) if len(set(eight_queens.evaluate(individual) for individual in participants)) > 1)\n",
    "      mr = max(MIN_MUTATION_RATE, min(MAX_MUTATION_RATE, m * (1 + (diversity / graph_data[-1][2]))))\n",
    "    \n",
    "      p = []\n",
    "      while len(p) < e:\n",
    "        p.append(eight_queens.tournament(participants))\n",
    "        p1, p2 = select_parent(p)\n",
    "        o1,o2 = eight_queens.crossover(p1,p2,3)\n",
    "        o1 = eight_queens.mutate(o1,mr); o2 = eight_queens.mutate(o2,mr)\n",
    "        p.append(o1);p.append(o2)\n",
    "\n",
    "      participants += p\n",
    "\n",
    "\n",
    "    return eight_queens.tournament(participants), graph_data\n",
    "#best, graph_data = run_ga(100, 60, 20, 0.2, 10)\n"
   ]
  },
  {
   "cell_type": "code",
   "execution_count": 109,
   "id": "244c7d18",
   "metadata": {},
   "outputs": [
    {
     "data": {
      "image/png": "[encoded data removed]",
      "text/plain": [
       "<Figure size 640x480 with 1 Axes>"
      ]
     },
     "metadata": {},
     "output_type": "display_data"
    },
    {
     "name": "stdout",
     "output_type": "stream",
     "text": [
      "[6, 1, 5, 2, 5, 3, 8, 4] 1.0\n"
     ]
    }
   ],
   "source": [
    "# AJUSTAR PARAMETROS\n",
    "\n",
    "\"\"\"\n",
    "    :param g:int - numero de gerações: alto pra permitir convergencia\n",
    "    :param n:int - numero de individuos: n: search space\n",
    "    :param k:int - numero de participantes do torneio: grande suficiente pra manter diversitade e evitar convergencia prematura\n",
    "    :param m:float - probabilidade de mutação (entre 0 e 1, inclusive):impede convergencia prematura mas atrasa a convergencia. implementei uma adaptativa\n",
    "    :param e:int - número de indivíduos no elitismo: e: baixo pra evitar perda de boas solucoes\n",
    "    :return:list - melhor individuo encontrado\n",
    "\n",
    "    \"\"\"\n",
    "best, graph_data = run_ga(100, 10, 4, 0.3, 2)\n",
    "\n",
    "# Plota o grafico\n",
    "triplets = graph_data\n",
    "x = range(len(triplets))\n",
    "y1 = [t[0] for t in triplets]\n",
    "y2 = [t[1] for t in triplets]\n",
    "y3 = [t[2] for t in triplets]\n",
    "\n",
    "plt.plot(x, y1, label='Menor')\n",
    "plt.plot(x, y2, label='Maior')\n",
    "plt.plot(x, y3, label='Media')\n",
    "\n",
    "plt.xlabel('Geracao')\n",
    "plt.ylabel('Conflitos')\n",
    "plt.title('')\n",
    "plt.legend()\n",
    "plt.show()\n",
    "print(best,eight_queens.evaluate(best))"
   ]
  },
  {
   "cell_type": "markdown",
   "id": "507b658a",
   "metadata": {},
   "source": []
  }
 ],
 "metadata": {
  "kernelspec": {
   "display_name": "Python 3 (ipykernel)",
   "language": "python",
   "name": "python3"
  },
  "language_info": {
   "codemirror_mode": {
    "name": "ipython",
    "version": 3
   },
   "file_extension": ".py",
   "mimetype": "text/x-python",
   "name": "python",
   "nbconvert_exporter": "python",
   "pygments_lexer": "ipython3",
   "version": "3.10.4"
  }
 },
 "nbformat": 4,
 "nbformat_minor": 5
}
